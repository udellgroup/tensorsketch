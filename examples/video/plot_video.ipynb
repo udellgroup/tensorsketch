{
 "cells": [
  {
   "cell_type": "code",
   "execution_count": 6,
   "metadata": {},
   "outputs": [],
   "source": [
    "import skvideo.io\n",
    "import numpy as np\n",
    "import numpy as np\n",
    "import matplotlib.pyplot as plt \n",
    "import pickle\n",
    "import tensorly as tl\n",
    "import matplotlib.ticker as ticker\n",
    "import tensorsketch\n",
    "from tensorsketch.tensor_approx import TensorApprox,eval_rerr\n",
    "import warnings\n",
    "from tensorly.decomposition import tucker\n",
    "from tensorsketch.util import RandomInfoBucket, random_matrix_generator\n",
    "warnings.filterwarnings('ignore')\n",
    "from sklearn.cluster import KMeans\n",
    "from matplotlib import colors\n"
   ]
  },
  {
   "cell_type": "code",
   "execution_count": 7,
   "metadata": {},
   "outputs": [],
   "source": [
    "MARKER_LIST = [\"s\", \"x\", \"o\",\"+\",\"*\",\"d\",\"^\"]\n",
    "MARKER_COLOR_LIST = ['b', 'g', 'r', 'c', 'm', 'y', 'k', 'w']"
   ]
  },
  {
   "cell_type": "code",
   "execution_count": 8,
   "metadata": {},
   "outputs": [],
   "source": [
    "def load_sketch(name, dim):\n",
    "    arm_sketches = []\n",
    "    for i in np.arange(dim): \n",
    "        arm_sketches.append(np.load(\"data/\"+name+\"_arm\"+str(i)+\".npy\"))\n",
    "    core_sketch = np.load(\"data/\"+name+\"_core.npy\")\n",
    "    return [arm_sketches, core_sketch]"
   ]
  },
  {
   "cell_type": "code",
   "execution_count": 9,
   "metadata": {},
   "outputs": [],
   "source": [
    "def plot_sketch_class(k = 300, fontsize = 18): \n",
    "    walk_sketch = load_sketch('walk_k'+str(k), 3)\n",
    "    arm_sketches, core_sketch = walk_sketch\n",
    "    kmeans = KMeans(n_clusters =3,random_state=0).fit(arm_sketches[0][100:2300])\n",
    "    \n",
    "    plt.rc('font', **{'family': 'serif', 'serif': ['Computer Modern']})\n",
    "    plt.rc('text', usetex=True)\n",
    "    plt.figure(figsize=(6,5))\n",
    "    \n",
    "    plt.plot(kmeans.labels_, markersize = 10, color = MARKER_COLOR_LIST[0])\n",
    "    \n",
    "    plt.title('Linear Sketch (k = ' + str(k)+')', fontsize = fontsize)\n",
    "    plt.xlabel('Frame', fontsize = fontsize)\n",
    "    plt.ylabel('Class', fontsize = fontsize)\n",
    "    plt.xticks(fontsize = fontsize)\n",
    "    plt.yticks(np.arange(3), fontsize = fontsize)\n",
    "    plt.yticks()\n",
    "    plt.tight_layout()\n",
    "    plt.savefig('plots/'+'vcl_sketch_k'+str(k)+'.pdf')\n",
    "    plt.show()"
   ]
  },
  {
   "cell_type": "code",
   "execution_count": 10,
   "metadata": {},
   "outputs": [],
   "source": [
    "def sketch_class(k = 300, fontsize = 18): \n",
    "    walk_sketch = load_sketch('walk_k'+str(k), 3)\n",
    "    arm_sketches, core_sketch = walk_sketch\n",
    "    kmeans = KMeans(n_clusters =3,random_state=0).fit(arm_sketches[0][100:2300])\n",
    "    return kmeans.labels_"
   ]
  },
  {
   "cell_type": "code",
   "execution_count": 6,
   "metadata": {},
   "outputs": [
    {
     "data": {
      "text/plain": [
       "array([0, 0, 0, ..., 1, 1, 1], dtype=int32)"
      ]
     },
     "execution_count": 6,
     "metadata": {},
     "output_type": "execute_result"
    }
   ],
   "source": [
    "sketch_class(k = 20)"
   ]
  },
  {
   "cell_type": "code",
   "execution_count": 7,
   "metadata": {},
   "outputs": [
    {
     "data": {
      "image/png": "[encoded data removed]",
      "text/plain": [
       "<Figure size 432x360 with 1 Axes>"
      ]
     },
     "metadata": {
      "needs_background": "light"
     },
     "output_type": "display_data"
    }
   ],
   "source": [
    "plot_sketch_class(k = 20)"
   ]
  },
  {
   "cell_type": "code",
   "execution_count": 11,
   "metadata": {},
   "outputs": [],
   "source": [
    "def plot_tucker_class(k = 300, r = 10, fontsize = 24): \n",
    "\n",
    "    [tucker_arms,tucker_core] = pickle.load(open(\"data/walk_tucker_k\"+str(k)+\"_r\"+str(10)+\".pickle\",'rb'))\n",
    "    kmeans = KMeans(n_clusters =3,random_state=0).fit(tucker_arms[0][100:2300])\n",
    "\n",
    "    plt.rc('font', **{'family': 'serif', 'serif': ['Computer Modern']})\n",
    "    plt.rc('text', usetex=True)\n",
    "    plt.figure(figsize=(6,5))\n",
    "    \n",
    "    plt.plot(kmeans.labels_, markersize = 10, color = MARKER_COLOR_LIST[1])\n",
    "    \n",
    "    plt.title('One Pass - Tucker (k = ' + str(k)+', r = '+ str(r)+')', fontsize = fontsize)\n",
    "    \n",
    "    plt.xlabel('Frame', fontsize = fontsize)\n",
    "    plt.ylabel('Class', fontsize = fontsize)\n",
    "    plt.xticks(fontsize =fontsize)\n",
    "    plt.yticks(np.arange(3), fontsize =fontsize)\n",
    "    plt.yticks()\n",
    "    plt.tight_layout()\n",
    "    plt.savefig('plots/'+'vcl_tucker_k'+str(k)+'_r'+str(r)+'.pdf')\n",
    "    plt.show()"
   ]
  },
  {
   "cell_type": "code",
   "execution_count": 12,
   "metadata": {},
   "outputs": [],
   "source": [
    "def tucker_class(k = 300, r = 10, fontsize = 24): \n",
    "\n",
    "    [tucker_arms,tucker_core] = pickle.load(open(\"data/walk_tucker_k\"+str(k)+\"_r\"+str(10)+\".pickle\",'rb'))\n",
    "    kmeans = KMeans(n_clusters =3,random_state=0).fit(tucker_arms[0][100:2300]) \n",
    "    return kmeans.labels_"
   ]
  },
  {
   "cell_type": "code",
   "execution_count": 8,
   "metadata": {},
   "outputs": [
    {
     "data": {
      "image/png": "[encoded data removed]",
      "text/plain": [
       "<Figure size 432x360 with 1 Axes>"
      ]
     },
     "metadata": {
      "needs_background": "light"
     },
     "output_type": "display_data"
    }
   ],
   "source": [
    "plot_tucker_class(r = 10, k = 20)"
   ]
  },
  {
   "cell_type": "code",
   "execution_count": 27,
   "metadata": {
    "scrolled": true
   },
   "outputs": [
    {
     "data": {
      "image/png": "[encoded data removed]",
      "text/plain": [
       "<Figure size 432x360 with 1 Axes>"
      ]
     },
     "metadata": {
      "needs_background": "light"
     },
     "output_type": "display_data"
    },
    {
     "data": {
      "image/png": "[encoded data removed]",
      "text/plain": [
       "<Figure size 432x360 with 1 Axes>"
      ]
     },
     "metadata": {
      "needs_background": "light"
     },
     "output_type": "display_data"
    }
   ],
   "source": [
    "plot_tucker_class(r = 10)\n",
    "plot_tucker_class(r = 20)"
   ]
  },
  {
   "cell_type": "code",
   "execution_count": 10,
   "metadata": {},
   "outputs": [],
   "source": [
    "def plot_tucker_2pass_class(k = 300, r = 10, fontsize = 24): \n",
    "\n",
    "    [tucker_arms,tucker_core] = pickle.load(open(\"data/walk_2pass_tucker_k\"+str(k)+\"_r\"+str(10)+\".pickle\",'rb'))\n",
    "    kmeans = KMeans(n_clusters =3,random_state=0).fit(tucker_arms[0][100:2300])\n",
    "\n",
    "    plt.rc('font', **{'family': 'serif', 'serif': ['Computer Modern']})\n",
    "    plt.rc('text', usetex=True)\n",
    "    plt.figure(figsize=(6,5))\n",
    "    \n",
    "    for idx,i in enumerate(kmeans.labels_): \n",
    "        if  i ==0: \n",
    "            kmeans.labels_[idx] = 1\n",
    "        elif i ==1:\n",
    "            kmeans.labels_[idx] = 0\n",
    "    plt.plot(kmeans.labels_, markersize = 10, color = MARKER_COLOR_LIST[1])\n",
    "    \n",
    "    plt.title('Two Pass - Tucker ( k = ' + str(k)+', r = '+ str(r) +')', fontsize = fontsize)\n",
    "    plt.xlabel('Frame', fontsize = fontsize)\n",
    "    plt.ylabel('Class', fontsize = fontsize)\n",
    "    plt.xticks(fontsize =fontsize)\n",
    "    plt.yticks(np. arange(3), fontsize =fontsize)\n",
    "    plt.yticks()\n",
    "    plt.tight_layout()\n",
    "    plt.savefig('plots/'+'vcl_tucker_2pass_k'+str(k)+'_r'+str(r)+'.pdf')\n",
    "    plt.show()"
   ]
  },
  {
   "cell_type": "code",
   "execution_count": 11,
   "metadata": {},
   "outputs": [],
   "source": [
    "def tucker_2pass_class(k = 300, r = 10, fontsize = 24): \n",
    "\n",
    "    [tucker_arms,tucker_core] = pickle.load(open(\"data/walk_2pass_tucker_k\"+str(k)+\"_r\"+str(10)+\".pickle\",'rb'))\n",
    "    kmeans = KMeans(n_clusters =3,random_state=0).fit(tucker_arms[0][100:2300]) \n",
    "    for idx,i in enumerate(kmeans.labels_): \n",
    "        if  i ==0: \n",
    "            kmeans.labels_[idx] = 1\n",
    "        elif i ==1:\n",
    "            kmeans.labels_[idx] = 0\n",
    "    return kmeans.labels_"
   ]
  },
  {
   "cell_type": "code",
   "execution_count": 56,
   "metadata": {
    "scrolled": false
   },
   "outputs": [
    {
     "ename": "NameError",
     "evalue": "name 'plot_tucker_2pass_class' is not defined",
     "output_type": "error",
     "traceback": [
      "\u001b[0;31m---------------------------------------------------------------------------\u001b[0m",
      "\u001b[0;31mNameError\u001b[0m                                 Traceback (most recent call last)",
      "\u001b[0;32m<ipython-input-56-83f3493ea9a0>\u001b[0m in \u001b[0;36m<module>\u001b[0;34m()\u001b[0m\n\u001b[0;32m----> 1\u001b[0;31m \u001b[0mplot_tucker_2pass_class\u001b[0m\u001b[0;34m(\u001b[0m\u001b[0mr\u001b[0m \u001b[0;34m=\u001b[0m \u001b[0;36m10\u001b[0m\u001b[0;34m,\u001b[0m \u001b[0mk\u001b[0m \u001b[0;34m=\u001b[0m \u001b[0;36m20\u001b[0m\u001b[0;34m)\u001b[0m\u001b[0;34m\u001b[0m\u001b[0;34m\u001b[0m\u001b[0m\n\u001b[0m",
      "\u001b[0;31mNameError\u001b[0m: name 'plot_tucker_2pass_class' is not defined"
     ]
    }
   ],
   "source": [
    "plot_tucker_2pass_class(r = 10, k = 20)"
   ]
  },
  {
   "cell_type": "code",
   "execution_count": 13,
   "metadata": {},
   "outputs": [],
   "source": [
    "result1 = sketch_class(k = 20)\n",
    "result2 = tucker_2pass_class(r = 10, k = 20)\n",
    "result3 = tucker_class(r = 10, k = 20)\n",
    "result4 = tucker_class(r = 10)\n"
   ]
  },
  {
   "cell_type": "code",
   "execution_count": 14,
   "metadata": {
    "scrolled": true
   },
   "outputs": [
    {
     "data": {
      "image/png": "[encoded data removed]",
      "text/plain": [
       "<Figure size 360x144 with 2 Axes>"
      ]
     },
     "metadata": {
      "needs_background": "light"
     },
     "output_type": "display_data"
    }
   ],
   "source": [
    "import matplotlib.pyplot as plt\n",
    "import numpy as np; np.random.seed(1)\n",
    "plt.rcParams[\"figure.figsize\"] = 5,2\n",
    "\n",
    "x = np.linspace(-3,3)\n",
    "y = np.cumsum(np.random.randn(50))+6\n",
    "\n",
    "fig, (ax,ax2) = plt.subplots(nrows=2, sharex=True)\n",
    "\n",
    "extent = [x[0]-(x[1]-x[0])/2., x[-1]+(x[1]-x[0])/2.,0,1]\n",
    "ax.imshow(y[np.newaxis,:], cmap=\"plasma\", aspect=\"auto\", extent=extent)\n",
    "ax.set_yticks([])\n",
    "ax.set_xlim(extent[0], extent[1])\n",
    "\n",
    "ax2.plot(x,y)\n",
    "\n",
    "plt.tight_layout()\n",
    "plt.show()\n"
   ]
  },
  {
   "cell_type": "code",
   "execution_count": 15,
   "metadata": {},
   "outputs": [],
   "source": [
    "extent = [0,2200,0,1]"
   ]
  },
  {
   "cell_type": "code",
   "execution_count": null,
   "metadata": {},
   "outputs": [],
   "source": []
  },
  {
   "cell_type": "code",
   "execution_count": 20,
   "metadata": {
    "scrolled": true
   },
   "outputs": [
    {
     "data": {
      "text/plain": [
       "<Figure size 2880x720 with 0 Axes>"
      ]
     },
     "metadata": {},
     "output_type": "display_data"
    },
    {
     "data": {
      "image/png": "[encoded data removed]",
      "text/plain": [
       "<Figure size 1080x360 with 4 Axes>"
      ]
     },
     "metadata": {
      "needs_background": "light"
     },
     "output_type": "display_data"
    }
   ],
   "source": [
    "plt.rc('font', **{'family': 'serif', 'serif': ['Computer Modern']})\n",
    "plt.rc('text', usetex=True)\n",
    "plt.figure(figsize=(40,10))\n",
    "fontsize = 18\n",
    "f, axarr = plt.subplots(4, sharex = True, figsize = (15,5))\n",
    "cmap = colors.ListedColormap(['blue', 'limegreen','orange'])\n",
    "axarr[0].imshow(result1[np.newaxis,:], cmap =cmap, aspect= \"auto\", extent = extent)\n",
    "axarr[0].set_ylabel('Linear Sketch (k = 20)',rotation=0, fontsize = fontsize, labelpad = 90)\n",
    "axarr[1].imshow(result2[np.newaxis,:], cmap =cmap, aspect= \"auto\", extent = extent)\n",
    "axarr[1].set_ylabel('Two-Pass Tucker (k = 20, r = 10)',rotation=0, fontsize = fontsize, labelpad = 130)\n",
    "axarr[2].imshow(result3[np.newaxis,:], cmap =cmap, aspect= \"auto\", extent = extent)\n",
    "axarr[2].set_ylabel('One-Pass Tucker (k = 20, r = 10)',rotation=0, fontsize = fontsize, labelpad = 130)\n",
    "axarr[3].imshow(result4[np.newaxis,:], cmap =cmap, aspect= \"auto\", extent = extent)\n",
    "axarr[3].set_ylabel('One-Pass Tucker (k = 300, r = 10)',rotation=0, fontsize = fontsize, labelpad = 130)\n",
    "[ax.set_yticks([]) for ax in axarr] \n",
    "#ax1.set_xticklabels(['', 0,10,20,30,40])\n",
    "axarr[3].set_xlabel('Frame', fontsize = fontsize)\n",
    "plt.tight_layout()\n",
    "\n",
    "plt.savefig('plots/'+'video_frame_classification.pdf')\n"
   ]
  }
 ],
 "metadata": {
  "kernelspec": {
   "display_name": "Python 3",
   "language": "python",
   "name": "python3"
  },
  "language_info": {
   "codemirror_mode": {
    "name": "ipython",
    "version": 3
   },
   "file_extension": ".py",
   "mimetype": "text/x-python",
   "name": "python",
   "nbconvert_exporter": "python",
   "pygments_lexer": "ipython3",
   "version": "3.6.8"
  }
 },
 "nbformat": 4,
 "nbformat_minor": 2
}
