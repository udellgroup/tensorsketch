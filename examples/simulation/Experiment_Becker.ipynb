{
 "cells": [
  {
   "cell_type": "code",
   "execution_count": 9,
   "metadata": {},
   "outputs": [],
   "source": [
    "import matlab.engine"
   ]
  },
  {
   "cell_type": "code",
   "execution_count": 27,
   "metadata": {},
   "outputs": [],
   "source": [
    "eng = matlab.engine.start_matlab()"
   ]
  },
  {
   "cell_type": "code",
   "execution_count": 11,
   "metadata": {},
   "outputs": [],
   "source": [
    "import numpy as np\n",
    "from scipy import fftpack\n",
    "import tensorly as tl \n",
    "import time\n",
    "from tensorly.decomposition import tucker\n",
    "import tensorsketch\n",
    "from tensorsketch import util\n",
    "import matplotlib \n",
    "import matplotlib.pyplot as plt\n",
    "import matplotlib.ticker as ticker\n",
    "import pickle \n",
    "import simulation\n",
    "plt.style.use('seaborn-paper')\n",
    "%matplotlib inline \n",
    "import warnings\n",
    "warnings.filterwarnings('ignore')\n",
    "import scipy.io"
   ]
  },
  {
   "cell_type": "code",
   "execution_count": 12,
   "metadata": {},
   "outputs": [],
   "source": [
    "MARKER_LIST = [\"s\", \"x\", \"o\",\"+\",\"*\",\"d\",\"^\"]"
   ]
  },
  {
   "cell_type": "code",
   "execution_count": 8,
   "metadata": {},
   "outputs": [],
   "source": [
    "Y= tensorsketch.util.square_tensor_gen(100,5,noise_level=0.1, typ = 'lk')[0]"
   ]
  },
  {
   "cell_type": "code",
   "execution_count": 13,
   "metadata": {
    "scrolled": true
   },
   "outputs": [],
   "source": [
    "Ynew = matlab.double(Y.tolist())"
   ]
  },
  {
   "cell_type": "code",
   "execution_count": 14,
   "metadata": {
    "scrolled": true
   },
   "outputs": [
    {
     "data": {
      "text/plain": [
       "0.10897833128726149"
      ]
     },
     "execution_count": 14,
     "metadata": {},
     "output_type": "execute_result"
    }
   ],
   "source": [
    "eng.tucker_ts_err(Ynew,matlab.int16([5,5,5]),250,1250,1e-4, 100)"
   ]
  },
  {
   "cell_type": "code",
   "execution_count": 15,
   "metadata": {
    "scrolled": true
   },
   "outputs": [
    {
     "data": {
      "text/plain": [
       "0.09943503893217365"
      ]
     },
     "execution_count": 15,
     "metadata": {},
     "output_type": "execute_result"
    }
   ],
   "source": [
    "eng.tucker_als_err(Ynew,matlab.int16([5,5,5]),1e-4,100)"
   ]
  },
  {
   "cell_type": "code",
   "execution_count": 16,
   "metadata": {
    "scrolled": false
   },
   "outputs": [
    {
     "data": {
      "text/plain": [
       "0.44953797095931863"
      ]
     },
     "execution_count": 16,
     "metadata": {},
     "output_type": "execute_result"
    }
   ],
   "source": [
    "eng.tucker_ttmts_err(Ynew,matlab.int16([5,5,5]),250,1250,1e-4, 100)"
   ]
  },
  {
   "cell_type": "code",
   "execution_count": 22,
   "metadata": {},
   "outputs": [
    {
     "data": {
      "text/plain": [
       "0.9545635967818361"
      ]
     },
     "execution_count": 22,
     "metadata": {},
     "output_type": "execute_result"
    }
   ],
   "source": [
    "eng.tucker_ts_err(Ynew,matlab.int16([5,5,5]),10,21,1e-4, 100)"
   ]
  },
  {
   "cell_type": "code",
   "execution_count": 23,
   "metadata": {},
   "outputs": [
    {
     "data": {
      "text/plain": [
       "0.0994350389321735"
      ]
     },
     "execution_count": 23,
     "metadata": {},
     "output_type": "execute_result"
    }
   ],
   "source": [
    "eng.tucker_als_err(Ynew,matlab.int16([5,5,5]),1e-4,100)"
   ]
  },
  {
   "cell_type": "code",
   "execution_count": 24,
   "metadata": {},
   "outputs": [
    {
     "data": {
      "text/plain": [
       "1.8452905767964733"
      ]
     },
     "execution_count": 24,
     "metadata": {},
     "output_type": "execute_result"
    }
   ],
   "source": [
    "eng.tucker_ttmts_err(Ynew,matlab.int16([5,5,5]),10,21,1e-4, 100)"
   ]
  },
  {
   "cell_type": "code",
   "execution_count": 13,
   "metadata": {},
   "outputs": [],
   "source": [
    "def gen_sparse_ten(n,nnz,r, dim = 3,noise_level = 1e-3):\n",
    "    density = (1 - (1 - nnz**(1/dim)/n)**(1/r))*r\n",
    "    core_tensor = np.random.normal(0,1,[r for _ in range(dim)])\n",
    "    arms = []\n",
    "    tensor = core_tensor\n",
    "    for i in np.arange(dim): \n",
    "        arm =  np.random.normal(0,1,size = (n,r))\n",
    "        arm = arm*np.random.binomial(1,density,size=(n,r))\n",
    "        arms.append(arm)\n",
    "        tensor = tl.tenalg.mode_dot(tensor, arm, mode=i) \n",
    "    tensor0 = tensor\n",
    "    tensor = tensor + np.random.normal(0,1,size = [n for _ in range(dim)])*noise_level\n",
    "    return tensor, tensor0 "
   ]
  },
  {
   "cell_type": "code",
   "execution_count": 64,
   "metadata": {
    "scrolled": true
   },
   "outputs": [
    {
     "name": "stdout",
     "output_type": "stream",
     "text": [
      "0.10425818819511601\n"
     ]
    }
   ],
   "source": [
    "testdata = gen_sparse_ten(100, 1000, 5)"
   ]
  },
  {
   "cell_type": "code",
   "execution_count": null,
   "metadata": {},
   "outputs": [],
   "source": []
  },
  {
   "cell_type": "code",
   "execution_count": 21,
   "metadata": {
    "scrolled": true
   },
   "outputs": [
    {
     "name": "stdout",
     "output_type": "stream",
     "text": [
      "0.09943503893217324\n",
      "0.21695594448946734\n",
      "0.2853598047546691\n"
     ]
    }
   ],
   "source": [
    "print(rerr_hooi )\n",
    "print(rerr_twopass)\n",
    "print(rerr_onepass)"
   ]
  },
  {
   "cell_type": "code",
   "execution_count": 14,
   "metadata": {},
   "outputs": [],
   "source": [
    "def fig1_reprun(gen_type,Ks,nnz, r0 =5, r = 8, noise_level = 1e-3,n = 200, dim = 3, sim_runs = 1,random_seed = 1, rm_typ = \"g\"): \n",
    "    \"\"\"\n",
    "    Simulate multiple datasets with different n for multiple runs. For each run, perform the HOOI, \n",
    "    two pass sketching, and one pass sketching \n",
    "    \n",
    "    :param gen_type: Type of random matrix used in sketching, including 'u' uniform, 'g' gaussian, 'sp'\n",
    "        sparse radamacer. \n",
    "    :param r: tucker rank of the simulated tensor \n",
    "    :param noise_level: noise level. It inverse equals to the signal-to-noise ratio.  \n",
    "    :param ns: array of different n, the side length of the square tensor \n",
    "    :param dim: the dimension of the square tensor \n",
    "    :param sim_runs: num of simulated runs in each setting \n",
    "    :param random_seed: random seed for generating the random matrix  \n",
    "    \"\"\"\n",
    "    eng = matlab.engine.start_matlab()\n",
    "    ks = Ks*r\n",
    "    ss = 2*ks+1\n",
    "    hooi_rerr = np.zeros((sim_runs, len(ks)))\n",
    "    two_pass_rerr = np.zeros((sim_runs,len(ks)))\n",
    "    one_pass_rerr = np.zeros((sim_runs,len(ks)))\n",
    "    ts_rerr = np.zeros((sim_runs, len(ks)))\n",
    "    ttmts_rerr = np.zeros((sim_runs, len(ks)))\n",
    "    for i in range(sim_runs): \n",
    "        for idx, K in enumerate(Ks): \n",
    "            k = ks[idx]\n",
    "            s = ss[idx]\n",
    "            Y  = gen_sparse_ten(n,nnz,r0,dim,noise_level)[0]\n",
    "            Ymatlab = matlab.double(Y.tolist())\n",
    "            print(K)\n",
    "            print(r)\n",
    "            print(K*r**(dim-1))\n",
    "            J1 = matlab.int64([K*r**(dim-1)])\n",
    "            J2 = matlab.int64([K*r**dim])\n",
    "            rerr_ts = eng.tucker_ts_err(Ymatlab,matlab.int16([r for _ in range(dim)]),J1,J2,1e-4, 100)\n",
    "            rerr_ttmts = eng.tucker_ttmts_err(Ymatlab,matlab.int16([r for _ in range(dim)]),J1,J2,1e-4, 100)\n",
    "            rerr_als = eng.tucker_als_err(Ymatlab,matlab.int16([r for _ in range(dim)]),1e-4,100)\n",
    "            tapprox = tensorsketch.tensor_approx.TensorApprox( Y, [r for _ in range(dim)], ks = [k for _ in range(dim)], \\\n",
    "                ss = [s for _ in range(dim)], random_seed = 1, rm_typ = 'gprod', store_phis = True) \n",
    "            Y_hat_hooi, _, _, _, (_, recover_time) = tapprox.tensor_approx('hooi')\n",
    "            Y_hat_twopass, _, _, _, (_, recover_time) = tapprox.tensor_approx('twopass')\n",
    "            Y_hat_onepass, _, _, _, (_, recover_time) = tapprox.tensor_approx('onepass')\n",
    "            rerr_hooi = tensorsketch.util.eval_rerr(Y,Y_hat_hooi,Y)\n",
    "            rerr_twopass = tensorsketch.util.eval_rerr(Y,Y_hat_twopass,Y)\n",
    "            rerr_onepass = tensorsketch.util.eval_rerr(Y,Y_hat_onepass,Y)\n",
    "            assert(rerr_als - rerr_hooi < 0.001)\n",
    "            print(rerr_als)\n",
    "            hooi_rerr[i,idx] = rerr_hooi\n",
    "            two_pass_rerr[i,idx] = rerr_twopass\n",
    "            one_pass_rerr[i,idx] = rerr_onepass\n",
    "            ts_rerr[i,idx] = rerr_ts\n",
    "            ttmts_rerr[i,idx] = rerr_ttmts\n",
    "    sim_list = [hooi_rerr, two_pass_rerr,one_pass_rerr, ts_rerr, ttmts_rerr]\n",
    "#    pickle.dump( sim_list, open(sim_name(gen_type,r,noise_level,dim, rm_typ) +\".pickle\", \"wb\" ) )\n",
    "    return sim_list"
   ]
  },
  {
   "cell_type": "code",
   "execution_count": 7,
   "metadata": {},
   "outputs": [
    {
     "data": {
      "text/plain": [
       "array([2, 4, 6, 8])"
      ]
     },
     "execution_count": 7,
     "metadata": {},
     "output_type": "execute_result"
    }
   ],
   "source": [
    "np.arange(2,10,2)"
   ]
  },
  {
   "cell_type": "code",
   "execution_count": null,
   "metadata": {
    "scrolled": true
   },
   "outputs": [
    {
     "name": "stdout",
     "output_type": "stream",
     "text": [
      "0.600208357273301\n",
      "2\n",
      "8\n",
      "128\n"
     ]
    },
    {
     "name": "stderr",
     "output_type": "stream",
     "text": [
      "Using numpy backend.\n",
      "Using numpy backend.\n",
      "Using numpy backend.\n",
      "Using numpy backend.\n",
      "Using numpy backend.\n"
     ]
    },
    {
     "name": "stdout",
     "output_type": "stream",
     "text": [
      "0 100\n",
      "1 100\n",
      "2 100\n",
      "0 100\n",
      "1 100\n",
      "2 100\n",
      "0 100\n",
      "1 100\n",
      "2 100\n",
      "0 100\n",
      "1 100\n",
      "2 100\n",
      "0 100\n",
      "1 100\n",
      "2 100\n",
      "0 100\n",
      "1 100\n",
      "2 100\n",
      "8.35083129843911e-05\n",
      "0.600208357273301\n",
      "4\n",
      "8\n",
      "256\n"
     ]
    }
   ],
   "source": [
    "sim_list = fig1_reprun('lk',np.arange(2,22,2), nnz = 100000, r0 =5, r = 8, noise_level = 1e-3,n = 100, dim = 3, sim_runs = 1,random_seed = 1, rm_typ = \"g\")"
   ]
  },
  {
   "cell_type": "code",
   "execution_count": 150,
   "metadata": {
    "scrolled": false
   },
   "outputs": [
    {
     "data": {
      "text/plain": [
       "array([9.55952504e-05, 9.24382017e-05, 1.05037970e-04, 9.56320233e-05,\n",
       "       9.57158722e-05, 9.05933593e-05, 9.41674087e-05, 9.46771549e-05,\n",
       "       9.90436089e-05, 8.84542029e-05])"
      ]
     },
     "execution_count": 150,
     "metadata": {},
     "output_type": "execute_result"
    }
   ],
   "source": [
    "np.mean(sim_list[0], axis = 0)"
   ]
  },
  {
   "cell_type": "code",
   "execution_count": 15,
   "metadata": {},
   "outputs": [],
   "source": [
    "def avg_sim_list(sim_list): \n",
    "    sim_list_new = []\n",
    "    for sims in sim_list: \n",
    "        sim_list_new.append(np.mean(sims, axis = 0)) \n",
    "    return sim_list_new\n",
    "        "
   ]
  },
  {
   "cell_type": "code",
   "execution_count": 36,
   "metadata": {},
   "outputs": [],
   "source": [
    "def fig1_repplot(sim_list,Ks,fontsize = 18): \n",
    "    '''\n",
    "    Plot the simulation results from l in the log scale. The plotted error is log(err(one or two pass)) - log(err(hooi)) \n",
    "    '''\n",
    "    plt.rc('font', **{'family': 'serif', 'serif': ['Computer Modern']})\n",
    "    plt.rc('text', usetex=True)\n",
    "    plt.figure(figsize=(6,5))\n",
    "    ymaxs = []\n",
    "\n",
    "    \n",
    "    two_pass_result = (sim_list[1]/sim_list[0])\n",
    "    one_pass_result = (sim_list[2]/sim_list[0])\n",
    "    ts_result = (sim_list[3]/sim_list[0])\n",
    "    ttmts_result = (sim_list[4]/sim_list[0])\n",
    "    print(two_pass_result)\n",
    "    plt.plot(Ks, two_pass_result, label = 'two pass', markersize = 10, marker = MARKER_LIST[0], markeredgewidth=1, markerfacecolor='None')\n",
    "    plt.plot(Ks, one_pass_result, label = 'one pass', markersize = 10, marker = MARKER_LIST[1], markeredgewidth=1, markerfacecolor='None')\n",
    "    plt.plot(Ks, ts_result, label = 'ts', markersize = 10, marker = MARKER_LIST[2], markeredgewidth=1, markerfacecolor='None')\n",
    "    plt.plot(Ks, ttmts_result, label = 'ttmts', markersize = 10, marker = MARKER_LIST[3], markeredgewidth=1, markerfacecolor='None')\n",
    "\n",
    "    alldata = np.concatenate(sim_list)\n",
    "    ymaxs.append(max(alldata))\n",
    "    plt.legend(loc = 'best')\n",
    "    plt.xlabel('Ks')\n",
    "    plt.ylabel('Relative Error')\n",
    "    plt.minorticks_off()\n",
    "    alldata = np.concatenate(sim_list)\n",
    "    ymin = 0\n",
    "    ymax = max(ymaxs)  \n",
    "    def round_to_n(x,n): \n",
    "        if x == 0: \n",
    "            return 0\n",
    "        else:\n",
    "            return round(x,-int(np.floor(np.log10(abs(x))))+n-1) \n",
    "    ticks = [round_to_n(i,3) for i in np.arange(ymin, ymax+(ymax-ymin)/5,(ymax-ymin)/5)] \n",
    "    plt.yticks(ticks)\n",
    "    plt.axes().title.set_fontsize(fontsize)\n",
    "    plt.axes().yaxis.set_major_formatter(ticker.FormatStrFormatter('%.2e')) \n",
    "    plt.axes().xaxis.label.set_fontsize(fontsize)\n",
    "    plt.axes().yaxis.label.set_fontsize(fontsize)\n",
    "    plt.rc('legend',fontsize = fontsize)\n",
    "    plt.rc('xtick', labelsize = fontsize) \n",
    "    plt.rc('ytick', labelsize = fontsize) \n",
    "    plt.tight_layout()\n",
    "    plt.show()"
   ]
  },
  {
   "cell_type": "code",
   "execution_count": 17,
   "metadata": {},
   "outputs": [
    {
     "ename": "NameError",
     "evalue": "name 'sim_list' is not defined",
     "output_type": "error",
     "traceback": [
      "\u001b[0;31m---------------------------------------------------------------------------\u001b[0m",
      "\u001b[0;31mNameError\u001b[0m                                 Traceback (most recent call last)",
      "\u001b[0;32m<ipython-input-17-819ce0303d45>\u001b[0m in \u001b[0;36m<module>\u001b[0;34m()\u001b[0m\n\u001b[0;32m----> 1\u001b[0;31m \u001b[0mavg_sim_list\u001b[0m\u001b[0;34m(\u001b[0m\u001b[0msim_list\u001b[0m\u001b[0;34m)\u001b[0m\u001b[0;34m\u001b[0m\u001b[0m\n\u001b[0m",
      "\u001b[0;31mNameError\u001b[0m: name 'sim_list' is not defined"
     ]
    }
   ],
   "source": [
    "avg_sim_list(sim_list)"
   ]
  },
  {
   "cell_type": "code",
   "execution_count": 171,
   "metadata": {
    "scrolled": true
   },
   "outputs": [
    {
     "name": "stdout",
     "output_type": "stream",
     "text": [
      "[ 6.71082612e-01  3.52356995e-01  2.09910409e-01  1.12612048e-01\n",
      "  5.25251400e-02  8.94097147e-03 -1.55431223e-15 -1.11022302e-15\n",
      " -1.11022302e-16  3.10862447e-15]\n"
     ]
    },
    {
     "data": {
      "image/png": "[encoded data removed]",
      "text/plain": [
       "<Figure size 432x360 with 1 Axes>"
      ]
     },
     "metadata": {
      "needs_background": "light"
     },
     "output_type": "display_data"
    }
   ],
   "source": [
    "fig1_repplot(avg_sim_list(sim_list), np.arange(2,22,2))"
   ]
  },
  {
   "cell_type": "code",
   "execution_count": 18,
   "metadata": {},
   "outputs": [],
   "source": [
    "def fig1_reprun_mem(gen_type,Ks,nnz, r0 =5, r = 8, noise_level = 1e-3,n = 200, dim = 3, sim_runs = 1,random_seed = 1, rm_typ = \"g\"): \n",
    "    \"\"\"\n",
    "    Simulate multiple datasets with different n for multiple runs. For each run, perform the HOOI, \n",
    "    two pass sketching, and one pass sketching \n",
    "    \n",
    "    :param gen_type: Type of random matrix used in sketching, including 'u' uniform, 'g' gaussian, 'sp'\n",
    "        sparse radamacer. \n",
    "    :param r: tucker rank of the simulated tensor \n",
    "    :param noise_level: noise level. It inverse equals to the signal-to-noise ratio.  \n",
    "    :param ns: array of different n, the side length of the square tensor \n",
    "    :param dim: the dimension of the square tensor \n",
    "    :param sim_runs: num of simulated runs in each setting \n",
    "    :param random_seed: random seed for generating the random matrix  \n",
    "    \"\"\"\n",
    "    eng = matlab.engine.start_matlab()\n",
    "    ks = Ks\n",
    "    ss = 2*ks+1\n",
    "    hooi_rerr = np.zeros((sim_runs, len(ks)))\n",
    "    two_pass_rerr = np.zeros((sim_runs,len(ks)))\n",
    "    one_pass_rerr = np.zeros((sim_runs,len(ks)))\n",
    "    ts_rerr = np.zeros((sim_runs, len(ks)))\n",
    "    ttmts_rerr = np.zeros((sim_runs, len(ks)))\n",
    "    for i in range(sim_runs): \n",
    "        for idx, K in enumerate(Ks): \n",
    "            k = ks[idx]\n",
    "            s = ss[idx]\n",
    "            Y  = gen_sparse_ten(n,nnz,r0, dim,noise_level)[0]\n",
    "            Ymatlab = matlab.double(Y.tolist())\n",
    "            J1 = matlab.int64([k])\n",
    "            J2 = matlab.int64([s])\n",
    "            rerr_ts = eng.tucker_ts_err(Ymatlab,matlab.int16([r for _ in range(dim)]),J1,J2,1e-4, 100)\n",
    "            rerr_ttmts = eng.tucker_ttmts_err(Ymatlab,matlab.int16([r for _ in range(dim)]),J1,J2,1e-4, 100)\n",
    "            rerr_als = eng.tucker_als_err(Ymatlab,matlab.int16([r for _ in range(dim)]),1e-4,100)\n",
    "            tapprox = tensorsketch.tensor_approx.TensorApprox( Y, [r for _ in range(dim)], ks = [k for _ in range(dim)], \\\n",
    "                ss = [s for _ in range(dim)], random_seed = 1, rm_typ = 'gprod', store_phis = True) \n",
    "            Y_hat_hooi, _, _, _, (_, recover_time) = tapprox.tensor_approx('hooi')\n",
    "            Y_hat_twopass, _, _, _, (_, recover_time) = tapprox.tensor_approx('twopass')\n",
    "            Y_hat_onepass, _, _, _, (_, recover_time) = tapprox.tensor_approx('onepass')\n",
    "            rerr_hooi = tensorsketch.util.eval_rerr(Y,Y_hat_hooi,Y)\n",
    "            rerr_twopass = tensorsketch.util.eval_rerr(Y,Y_hat_twopass,Y)\n",
    "            rerr_onepass = tensorsketch.util.eval_rerr(Y,Y_hat_onepass,Y)\n",
    "            assert(rerr_als - rerr_hooi < 0.001)\n",
    "            print(rerr_als)\n",
    "            hooi_rerr[i,idx] = rerr_hooi\n",
    "            two_pass_rerr[i,idx] = rerr_twopass\n",
    "            one_pass_rerr[i,idx] = rerr_onepass\n",
    "            ts_rerr[i,idx] = rerr_ts\n",
    "            ttmts_rerr[i,idx] = rerr_ttmts\n",
    "    sim_list = [hooi_rerr, two_pass_rerr,one_pass_rerr, ts_rerr, ttmts_rerr]\n",
    "#    pickle.dump( sim_list, open(sim_name(gen_type,r,noise_level,dim, rm_typ) +\".pickle\", \"wb\" ) )\n",
    "    return sim_list"
   ]
  },
  {
   "cell_type": "code",
   "execution_count": 33,
   "metadata": {
    "scrolled": true
   },
   "outputs": [
    {
     "name": "stdout",
     "output_type": "stream",
     "text": [
      "0.5865601567031703\n"
     ]
    },
    {
     "name": "stderr",
     "output_type": "stream",
     "text": [
      "Using numpy backend.\n",
      "Using numpy backend.\n",
      "Using numpy backend.\n",
      "Using numpy backend.\n",
      "Using numpy backend.\n"
     ]
    },
    {
     "name": "stdout",
     "output_type": "stream",
     "text": [
      "0 100\n",
      "1 100\n",
      "2 100\n",
      "0 100\n",
      "1 100\n",
      "2 100\n",
      "0 100\n",
      "1 100\n",
      "2 100\n",
      "0 100\n",
      "1 100\n",
      "2 100\n",
      "0 100\n",
      "1 100\n",
      "2 100\n",
      "0 100\n",
      "1 100\n",
      "2 100\n",
      "0.00021717963802819214\n",
      "0.5865601567031703\n"
     ]
    },
    {
     "name": "stderr",
     "output_type": "stream",
     "text": [
      "Using numpy backend.\n",
      "Using numpy backend.\n",
      "Using numpy backend.\n",
      "Using numpy backend.\n",
      "Using numpy backend.\n"
     ]
    },
    {
     "name": "stdout",
     "output_type": "stream",
     "text": [
      "0 100\n",
      "1 100\n",
      "2 100\n",
      "0 100\n",
      "1 100\n",
      "2 100\n",
      "0 100\n",
      "1 100\n",
      "2 100\n",
      "0 100\n",
      "1 100\n",
      "2 100\n",
      "0 100\n",
      "1 100\n",
      "2 100\n",
      "0 100\n",
      "1 100\n",
      "2 100\n",
      "0.00021718576701442645\n",
      "0.5865601567031703\n"
     ]
    },
    {
     "name": "stderr",
     "output_type": "stream",
     "text": [
      "Using numpy backend.\n",
      "Using numpy backend.\n",
      "Using numpy backend.\n",
      "Using numpy backend.\n",
      "Using numpy backend.\n"
     ]
    },
    {
     "name": "stdout",
     "output_type": "stream",
     "text": [
      "0 100\n",
      "1 100\n",
      "2 100\n",
      "0 100\n",
      "1 100\n",
      "2 100\n",
      "0 100\n",
      "1 100\n",
      "2 100\n",
      "0 100\n",
      "1 100\n",
      "2 100\n",
      "0 100\n",
      "1 100\n",
      "2 100\n",
      "0 100\n",
      "1 100\n",
      "2 100\n",
      "0.00018569547261572584\n",
      "0.5865601567031703\n"
     ]
    },
    {
     "name": "stderr",
     "output_type": "stream",
     "text": [
      "Using numpy backend.\n",
      "Using numpy backend.\n",
      "Using numpy backend.\n",
      "Using numpy backend.\n",
      "Using numpy backend.\n"
     ]
    },
    {
     "name": "stdout",
     "output_type": "stream",
     "text": [
      "0 100\n",
      "1 100\n",
      "2 100\n",
      "0 100\n",
      "1 100\n",
      "2 100\n",
      "0 100\n",
      "1 100\n",
      "2 100\n",
      "0 100\n",
      "1 100\n",
      "2 100\n",
      "0 100\n",
      "1 100\n",
      "2 100\n",
      "0 100\n",
      "1 100\n",
      "2 100\n",
      "0.00015915432159625963\n",
      "0.5865601567031703\n"
     ]
    },
    {
     "name": "stderr",
     "output_type": "stream",
     "text": [
      "Using numpy backend.\n",
      "Using numpy backend.\n",
      "Using numpy backend.\n",
      "Using numpy backend.\n",
      "Using numpy backend.\n"
     ]
    },
    {
     "name": "stdout",
     "output_type": "stream",
     "text": [
      "0 100\n",
      "1 100\n",
      "2 100\n",
      "0 100\n",
      "1 100\n",
      "2 100\n",
      "0 100\n",
      "1 100\n",
      "2 100\n",
      "0 100\n",
      "1 100\n",
      "2 100\n",
      "0 100\n",
      "1 100\n",
      "2 100\n",
      "0 100\n",
      "1 100\n",
      "2 100\n",
      "0.0001976658581156835\n",
      "0.5865601567031703\n",
      "0 100\n",
      "1 100\n",
      "2 100\n",
      "0 100\n",
      "1 100\n",
      "2 100\n",
      "0 100\n",
      "1 100\n",
      "2 100\n",
      "0 100\n",
      "1 100\n",
      "2 100\n",
      "0 100\n",
      "1 100\n",
      "2 100\n",
      "0 100\n",
      "1 100\n",
      "2 100\n",
      "0.00018285689557709215\n"
     ]
    },
    {
     "name": "stderr",
     "output_type": "stream",
     "text": [
      "Using numpy backend.\n",
      "Using numpy backend.\n",
      "Using numpy backend.\n",
      "Using numpy backend.\n",
      "Using numpy backend.\n"
     ]
    }
   ],
   "source": [
    "sim_list_mem = fig1_reprun_mem('lk',np.arange(10,40,5), nnz = 100000, r0 =5, r = 8, noise_level = 1e-3,n = 100, dim = 3, sim_runs = 1,random_seed = 1, rm_typ = \"g\")"
   ]
  },
  {
   "cell_type": "code",
   "execution_count": 34,
   "metadata": {
    "scrolled": true
   },
   "outputs": [
    {
     "data": {
      "text/plain": [
       "[array([[0.00021714, 0.00021714, 0.00018566, 0.00015912, 0.00019763,\n",
       "         0.00018281]]),\n",
       " array([[0.00067674, 0.00049862, 0.00032625, 0.00022331, 0.00026522,\n",
       "         0.00024062]]),\n",
       " array([[0.00102378, 0.00068606, 0.00043365, 0.00027973, 0.00034616,\n",
       "         0.00029371]]),\n",
       " array([[0.98270725, 0.97775802, 0.93764276, 0.95788945, 0.92327317,\n",
       "         0.93744768]]),\n",
       " array([[4.05129089, 5.39191657, 3.33719535, 3.69224456, 2.5364845 ,\n",
       "         3.31642444]])]"
      ]
     },
     "execution_count": 34,
     "metadata": {},
     "output_type": "execute_result"
    }
   ],
   "source": [
    "sim_list_mem"
   ]
  },
  {
   "cell_type": "code",
   "execution_count": 37,
   "metadata": {
    "scrolled": true
   },
   "outputs": [
    {
     "name": "stdout",
     "output_type": "stream",
     "text": [
      "[1.13673322 0.83130435 0.56372305 0.33889711 0.29419688 0.27477465]\n"
     ]
    },
    {
     "data": {
      "image/png": "[encoded data removed]",
      "text/plain": [
       "<Figure size 432x360 with 1 Axes>"
      ]
     },
     "metadata": {
      "needs_background": "light"
     },
     "output_type": "display_data"
    }
   ],
   "source": [
    "fig1_repplot(avg_sim_list(sim_list_mem), np.arange(10,40,5))"
   ]
  },
  {
   "cell_type": "code",
   "execution_count": 43,
   "metadata": {},
   "outputs": [],
   "source": [
    "def fig5_reprun(gen_type,rs,nnz, noise_level = 1e-3,n = 100, dim = 3, sim_runs = 1,random_seed = 1, rm_typ = \"g\"): \n",
    "    \"\"\"\n",
    "    Simulate multiple datasets with different n for multiple runs. For each run, perform the HOOI, \n",
    "    two pass sketching, and one pass sketching \n",
    "    \n",
    "    :param gen_type: Type of random matrix used in sketching, including 'u' uniform, 'g' gaussian, 'sp'\n",
    "        sparse radamacer. \n",
    "    :param r: tucker rank of the simulated tensor \n",
    "    :param noise_level: noise level. It inverse equals to the signal-to-noise ratio.  \n",
    "    :param ns: array of different n, the side length of the square tensor \n",
    "    :param dim: the dimension of the square tensor \n",
    "    :param sim_runs: num of simulated runs in each setting \n",
    "    :param random_seed: random seed for generating the random matrix  \n",
    "    \"\"\"\n",
    "    eng = matlab.engine.start_matlab()\n",
    "    r0 = 5 \n",
    "    K = 10\n",
    "    ks = 2*rs\n",
    "    ss = 2*ks+1\n",
    "    hooi_rerr = np.zeros((sim_runs, len(ks)))\n",
    "    two_pass_rerr = np.zeros((sim_runs,len(ks)))\n",
    "    one_pass_rerr = np.zeros((sim_runs,len(ks)))\n",
    "    ts_rerr = np.zeros((sim_runs, len(ks)))\n",
    "    ttmts_rerr = np.zeros((sim_runs, len(ks)))\n",
    "    for i in range(sim_runs): \n",
    "        for idx, r in enumerate(rs): \n",
    "            k = ks[idx]\n",
    "            s = ss[idx]\n",
    "            Y  = gen_sparse_ten(n,nnz,r, dim,noise_level)[0]\n",
    "            scipy.io.savemat('exp.mat', mdict={'arr': Y})\n",
    "            Ymatlab = matlab.double(Y.tolist())\n",
    "            J1 = matlab.int64([K*r**(dim -1)])\n",
    "            J2 = matlab.int64([K*r**dim])\n",
    "            print(K*r**dim,Y.shape,r,J1,J2)\n",
    "            rerr_ts = eng.tucker_ts_err(Ymatlab,matlab.int16([r for _ in range(dim)]),J1,J2,1e-4, 100)\n",
    "            rerr_ttmts = eng.tucker_ttmts_err(Ymatlab,matlab.int16([r for _ in range(dim)]),J1,J2,1e-4, 100)\n",
    "            rerr_als = eng.tucker_als_err(Ymatlab,matlab.int16([r for _ in range(dim)]),1e-4,100)\n",
    "            tapprox = tensorsketch.tensor_approx.TensorApprox( Y, [r for _ in range(dim)], ks = [k for _ in range(dim)], \\\n",
    "                ss = [s for _ in range(dim)], random_seed = 1, rm_typ = 'gprod', store_phis = True) \n",
    "            Y_hat_hooi, _, _, _, (_, recover_time) = tapprox.tensor_approx('hooi')\n",
    "            Y_hat_twopass, _, _, _, (_, recover_time) = tapprox.tensor_approx('twopass')\n",
    "            Y_hat_onepass, _, _, _, (_, recover_time) = tapprox.tensor_approx('onepass')\n",
    "            rerr_hooi = tensorsketch.util.eval_rerr(Y,Y_hat_hooi,Y)\n",
    "            rerr_twopass = tensorsketch.util.eval_rerr(Y,Y_hat_twopass,Y)\n",
    "            rerr_onepass = tensorsketch.util.eval_rerr(Y,Y_hat_onepass,Y)\n",
    "            assert(rerr_als - rerr_hooi < 0.001)\n",
    "            print(rerr_als)\n",
    "            hooi_rerr[i,idx] = rerr_hooi\n",
    "            two_pass_rerr[i,idx] = rerr_twopass\n",
    "            one_pass_rerr[i,idx] = rerr_onepass\n",
    "            ts_rerr[i,idx] = rerr_ts\n",
    "            ttmts_rerr[i,idx] = rerr_ttmts\n",
    "    sim_list = [hooi_rerr, two_pass_rerr,one_pass_rerr, ts_rerr, ttmts_rerr]\n",
    "#    pickle.dump( sim_list, open(sim_name(gen_type,r,noise_level,dim, rm_typ) +\".pickle\", \"wb\" ) )\n",
    "    return sim_list"
   ]
  },
  {
   "cell_type": "code",
   "execution_count": 44,
   "metadata": {
    "scrolled": true
   },
   "outputs": [
    {
     "name": "stdout",
     "output_type": "stream",
     "text": [
      "1250 (100, 100, 100) 5 [[250]] [[1250]]\n"
     ]
    },
    {
     "name": "stderr",
     "output_type": "stream",
     "text": [
      "Using numpy backend.\n",
      "Using numpy backend.\n",
      "Using numpy backend.\n",
      "Using numpy backend.\n",
      "Using numpy backend.\n"
     ]
    },
    {
     "name": "stdout",
     "output_type": "stream",
     "text": [
      "0 100\n",
      "1 100\n",
      "2 100\n",
      "0 100\n",
      "1 100\n",
      "2 100\n",
      "0 100\n",
      "1 100\n",
      "2 100\n",
      "0 100\n",
      "1 100\n",
      "2 100\n",
      "0 100\n",
      "1 100\n",
      "2 100\n",
      "0 100\n",
      "1 100\n",
      "2 100\n",
      "0.0002131271761949289\n",
      "7290 (100, 100, 100) 9 [[810]] [[7290]]\n"
     ]
    },
    {
     "name": "stderr",
     "output_type": "stream",
     "text": [
      "Using numpy backend.\n",
      "Using numpy backend.\n",
      "Using numpy backend.\n",
      "Using numpy backend.\n",
      "Using numpy backend.\n"
     ]
    },
    {
     "name": "stdout",
     "output_type": "stream",
     "text": [
      "0 100\n",
      "1 100\n",
      "2 100\n",
      "0 100\n",
      "1 100\n",
      "2 100\n",
      "0 100\n",
      "1 100\n",
      "2 100\n",
      "0 100\n",
      "1 100\n",
      "2 100\n",
      "0 100\n",
      "1 100\n",
      "2 100\n",
      "0 100\n",
      "1 100\n",
      "2 100\n",
      "8.205984405648543e-05\n",
      "21970 (100, 100, 100) 13 [[1690]] [[21970]]\n"
     ]
    },
    {
     "name": "stderr",
     "output_type": "stream",
     "text": [
      "Using numpy backend.\n",
      "Using numpy backend.\n",
      "Using numpy backend.\n",
      "Using numpy backend.\n",
      "Using numpy backend.\n"
     ]
    },
    {
     "name": "stdout",
     "output_type": "stream",
     "text": [
      "0 100\n",
      "1 100\n",
      "2 100\n",
      "0 100\n",
      "1 100\n",
      "2 100\n",
      "0 100\n",
      "1 100\n",
      "2 100\n",
      "0 100\n",
      "1 100\n",
      "2 100\n",
      "0 100\n",
      "1 100\n",
      "2 100\n",
      "0 100\n",
      "1 100\n",
      "2 100\n",
      "4.619791886523058e-05\n",
      "49130 (100, 100, 100) 17 [[2890]] [[49130]]\n",
      "0 100\n",
      "1 100\n",
      "2 100\n",
      "0 100\n",
      "1 100\n",
      "2 100\n",
      "0 100\n",
      "1 100\n",
      "2 100\n",
      "0 100\n",
      "1 100\n",
      "2 100\n",
      "0 100\n",
      "1 100\n",
      "2 100\n",
      "0 100\n",
      "1 100\n",
      "2 100\n",
      "2.9558236109536505e-05\n"
     ]
    },
    {
     "name": "stderr",
     "output_type": "stream",
     "text": [
      "Using numpy backend.\n",
      "Using numpy backend.\n",
      "Using numpy backend.\n",
      "Using numpy backend.\n",
      "Using numpy backend.\n"
     ]
    }
   ],
   "source": [
    "sim_list_fig5 = fig5_reprun('lk',np.arange(5,20,4), nnz = 100000, noise_level = 1e-3,n = 100, dim = 3, sim_runs = 1,random_seed = 1, rm_typ = \"g\")"
   ]
  },
  {
   "cell_type": "code",
   "execution_count": 45,
   "metadata": {},
   "outputs": [
    {
     "data": {
      "text/plain": [
       "[array([2.13127176e-04, 8.20598441e-05, 4.61979189e-05, 2.95582361e-05]),\n",
       " array([7.28942187e-04, 1.95010754e-04, 9.57761198e-05, 6.82463880e-05]),\n",
       " array([1.03885785e-03, 2.55833455e-04, 1.24140931e-04, 9.57992617e-05]),\n",
       " array([2.31431117e-04, 8.76689567e-05, 4.92012766e-05, 3.13445056e-05]),\n",
       " array([0.42955504, 0.36607189, 0.34633158, 0.33622904])]"
      ]
     },
     "execution_count": 45,
     "metadata": {},
     "output_type": "execute_result"
    }
   ],
   "source": [
    "avg_sim_list(sim_list_fig5)"
   ]
  },
  {
   "cell_type": "code",
   "execution_count": 46,
   "metadata": {},
   "outputs": [
    {
     "name": "stdout",
     "output_type": "stream",
     "text": [
      "[3.42022167 2.37644559 2.07316958 2.30887891]\n"
     ]
    },
    {
     "data": {
      "image/png": "[encoded data removed]",
      "text/plain": [
       "<Figure size 432x360 with 1 Axes>"
      ]
     },
     "metadata": {
      "needs_background": "light"
     },
     "output_type": "display_data"
    }
   ],
   "source": [
    "fig1_repplot(avg_sim_list(sim_list_fig5), np.arange(5,20,4))"
   ]
  },
  {
   "cell_type": "code",
   "execution_count": 15,
   "metadata": {},
   "outputs": [],
   "source": [
    "rs = np.arange(5,15,2)"
   ]
  },
  {
   "cell_type": "code",
   "execution_count": 6,
   "metadata": {
    "scrolled": true
   },
   "outputs": [
    {
     "name": "stderr",
     "output_type": "stream",
     "text": [
      "Using numpy backend.\n",
      "Using numpy backend.\n",
      "Using numpy backend.\n",
      "Using numpy backend.\n",
      "Using numpy backend.\n",
      "Using numpy backend.\n",
      "Using numpy backend.\n",
      "Using numpy backend.\n",
      "Using numpy backend.\n",
      "Using numpy backend.\n",
      "Using numpy backend.\n",
      "Using numpy backend.\n",
      "Using numpy backend.\n",
      "Using numpy backend.\n",
      "Using numpy backend.\n",
      "Using numpy backend.\n",
      "Using numpy backend.\n",
      "Using numpy backend.\n",
      "Using numpy backend.\n",
      "Using numpy backend.\n",
      "Using numpy backend.\n",
      "Using numpy backend.\n",
      "Using numpy backend.\n",
      "Using numpy backend.\n",
      "Using numpy backend.\n",
      "Using numpy backend.\n",
      "Using numpy backend.\n",
      "Using numpy backend.\n",
      "Using numpy backend.\n",
      "Using numpy backend.\n"
     ]
    }
   ],
   "source": [
    "g_result = compare_rssim('lk',rs, 0.1, n = 100, dim = 3, sim_runs = 1,random_seed = 1, rm_typ = \"g\")"
   ]
  },
  {
   "cell_type": "code",
   "execution_count": 8,
   "metadata": {
    "scrolled": false
   },
   "outputs": [
    {
     "data": {
      "text/plain": [
       "[[array([[0.212435  , 0.1705914 , 0.14061831, 0.1284264 , 0.12296332]]),\n",
       "  array([[0.30102944, 0.2265594 , 0.17628446, 0.15074677, 0.14406683]]),\n",
       "  array([[0.09986076, 0.09986076, 0.09986076, 0.09986076, 0.09986076]])]]"
      ]
     },
     "execution_count": 8,
     "metadata": {},
     "output_type": "execute_result"
    }
   ],
   "source": [
    "g_result"
   ]
  },
  {
   "cell_type": "code",
   "execution_count": 83,
   "metadata": {
    "scrolled": true
   },
   "outputs": [
    {
     "name": "stderr",
     "output_type": "stream",
     "text": [
      "Using numpy backend.\n",
      "Using numpy backend.\n",
      "Using numpy backend.\n",
      "Using numpy backend.\n",
      "Using numpy backend.\n",
      "Using numpy backend.\n",
      "Using numpy backend.\n",
      "Using numpy backend.\n"
     ]
    },
    {
     "name": "stdout",
     "output_type": "stream",
     "text": [
      "0 100\n",
      "1 100\n",
      "2 100\n",
      "0 100\n",
      "1 100\n",
      "2 100\n",
      "0 100\n",
      "1 100\n",
      "2 100\n",
      "0 100\n",
      "1 100\n",
      "2 100\n",
      "0 100\n",
      "1 100\n",
      "2 100\n",
      "0 100\n",
      "1 100\n",
      "2 100\n",
      "0 100\n",
      "1 100\n",
      "2 100\n",
      "0 100\n",
      "1 100\n",
      "2 100\n",
      "0 100\n",
      "1 100\n",
      "2 100\n",
      "0 100\n",
      "1 100\n",
      "2 100\n",
      "0 100\n",
      "1 100\n",
      "2 100\n",
      "0 100\n",
      "1 100\n",
      "2 100\n"
     ]
    },
    {
     "name": "stderr",
     "output_type": "stream",
     "text": [
      "Using numpy backend.\n",
      "Using numpy backend.\n",
      "Using numpy backend.\n",
      "Using numpy backend.\n",
      "Using numpy backend.\n",
      "Using numpy backend.\n",
      "Using numpy backend.\n",
      "Using numpy backend.\n",
      "Using numpy backend.\n",
      "Using numpy backend.\n"
     ]
    },
    {
     "name": "stdout",
     "output_type": "stream",
     "text": [
      "0 100\n",
      "1 100\n",
      "2 100\n",
      "0 100\n",
      "1 100\n",
      "2 100\n",
      "0 100\n",
      "1 100\n",
      "2 100\n",
      "0 100\n",
      "1 100\n",
      "2 100\n",
      "0 100\n",
      "1 100\n",
      "2 100\n",
      "0 100\n",
      "1 100\n",
      "2 100\n",
      "0 100\n",
      "1 100\n",
      "2 100\n",
      "0 100\n",
      "1 100\n",
      "2 100\n",
      "0 100\n",
      "1 100\n",
      "2 100\n",
      "0 100\n",
      "1 100\n",
      "2 100\n",
      "0 100\n",
      "1 100\n",
      "2 100\n",
      "0 100\n",
      "1 100\n",
      "2 100\n"
     ]
    },
    {
     "name": "stderr",
     "output_type": "stream",
     "text": [
      "Using numpy backend.\n",
      "Using numpy backend.\n",
      "Using numpy backend.\n",
      "Using numpy backend.\n",
      "Using numpy backend.\n",
      "Using numpy backend.\n",
      "Using numpy backend.\n",
      "Using numpy backend.\n",
      "Using numpy backend.\n"
     ]
    },
    {
     "name": "stdout",
     "output_type": "stream",
     "text": [
      "0 100\n",
      "1 100\n",
      "2 100\n",
      "0 100\n",
      "1 100\n",
      "2 100\n",
      "0 100\n",
      "1 100\n",
      "2 100\n",
      "0 100\n",
      "1 100\n",
      "2 100\n",
      "0 100\n",
      "1 100\n",
      "2 100\n",
      "0 100\n",
      "1 100\n",
      "2 100\n"
     ]
    },
    {
     "name": "stderr",
     "output_type": "stream",
     "text": [
      "Using numpy backend.\n",
      "Using numpy backend.\n",
      "Using numpy backend.\n"
     ]
    }
   ],
   "source": [
    "gprod_result = compare_rssim('lk',rs, 0.1, n = 100, dim = 3, sim_runs = 1,random_seed = 1, rm_typ = \"gprod\")"
   ]
  },
  {
   "cell_type": "code",
   "execution_count": 84,
   "metadata": {
    "scrolled": true
   },
   "outputs": [],
   "source": [
    "hooi_err = g_result[0][2][0]\n",
    "g_err = g_result[0][1][0]\n",
    "gprod_err = gprod_result[0][1][0]"
   ]
  },
  {
   "cell_type": "code",
   "execution_count": 85,
   "metadata": {
    "scrolled": false
   },
   "outputs": [
    {
     "data": {
      "text/plain": [
       "array([[0.0099912 , 0.00998417, 0.00997536, 0.0099639 , 0.00995045,\n",
       "        0.00993575],\n",
       "       [0.01084409, 0.01144262, 0.0125922 , 0.01454808, 0.03163583,\n",
       "        0.17380953],\n",
       "       [0.38261625, 0.53272152, 0.67548667, 0.78061856, 0.88568428,\n",
       "        1.01080956]])"
      ]
     },
     "execution_count": 85,
     "metadata": {},
     "output_type": "execute_result"
    }
   ],
   "source": [
    "scipy.io.loadmat('demo5.mat')['err_mat']"
   ]
  },
  {
   "cell_type": "code",
   "execution_count": null,
   "metadata": {},
   "outputs": [],
   "source": []
  },
  {
   "cell_type": "code",
   "execution_count": 86,
   "metadata": {},
   "outputs": [],
   "source": [
    "ts_err = scipy.io.loadmat('demo5.mat')['err_mat'][1,:]\n",
    "ttmts_err = scipy.io.loadmat('demo5.mat')['err_mat'][2,:]"
   ]
  },
  {
   "cell_type": "code",
   "execution_count": 87,
   "metadata": {},
   "outputs": [],
   "source": [
    "MARKER_LIST = [\"s\", \"x\", \"o\",\"+\",\"*\",\"d\",\"^\"]"
   ]
  },
  {
   "cell_type": "code",
   "execution_count": 88,
   "metadata": {},
   "outputs": [],
   "source": [
    "n = 100"
   ]
  },
  {
   "cell_type": "code",
   "execution_count": 89,
   "metadata": {
    "scrolled": true
   },
   "outputs": [
    {
     "data": {
      "text/plain": [
       "<Figure size 432x360 with 0 Axes>"
      ]
     },
     "metadata": {},
     "output_type": "display_data"
    }
   ],
   "source": [
    "plt.rc('font', **{'family': 'serif', 'serif': ['Computer Modern']})\n",
    "plt.rc('text', usetex=True)\n",
    "sim_list = []\n",
    "plt.figure(figsize=(6,5))\n",
    "ymaxs = []\n",
    "g_logratio = [np.log(g_err[i]/hooi_err[i]) for i in range(len(hooi_err))]\n",
    "gprod_logratio = [np.log(gprod_err[i]/hooi_err[i]) for i in range(len(hooi_err))]\n",
    "ts_logratio = [np.log(ts_err[i]/hooi_err[i]) for i in range(len(hooi_err))]\n",
    "ttmts_logratio = [np.log(ttmts_err[i]/hooi_err[i]) for i in range(len(hooi_err))]"
   ]
  },
  {
   "cell_type": "code",
   "execution_count": 90,
   "metadata": {},
   "outputs": [
    {
     "name": "stdout",
     "output_type": "stream",
     "text": [
      "[1.103431270304495, 0.8192303453097105, 0.5683221047677608, 0.4118246171567793, 0.36650046643577866]\n",
      "[0.890208121361631, 0.8102790873358305, 0.6736691727950143, 0.584675770500923, 0.5378771851802769]\n",
      "[-2.220156663645529, -2.1664321549450274, -2.0706988995213584, -1.9263176102010118, -1.1494865579943105]\n",
      "[1.3432557285960551, 1.6742219989293146, 1.9116566164706434, 2.056309816201918, 2.1825837322706247]\n"
     ]
    }
   ],
   "source": [
    "print(g_logratio)\n",
    "print(gprod_logratio)\n",
    "print(ts_logratio)\n",
    "print(ttmts_logratio)"
   ]
  },
  {
   "cell_type": "code",
   "execution_count": 92,
   "metadata": {},
   "outputs": [
    {
     "data": {
      "image/png": "[encoded data removed]",
      "text/plain": [
       "<Figure size 432x288 with 1 Axes>"
      ]
     },
     "metadata": {
      "needs_background": "light"
     },
     "output_type": "display_data"
    }
   ],
   "source": [
    "fontsize = 15\n",
    "plt.plot(rs/n, g_logratio, label = 'Gaussian', markersize = 10, marker = MARKER_LIST[0], markeredgewidth=1, markerfacecolor='None') \n",
    "plt.plot(rs/n, gprod_logratio, label = 'Gaussian KR', markersize = 10, marker = MARKER_LIST[1], markeredgewidth=1, markerfacecolor='None') \n",
    "plt.plot(rs/n, ts_logratio, label = 'TS', markersize = 10, marker = MARKER_LIST[2], markeredgewidth=1, markerfacecolor='None') \n",
    "plt.plot(rs/n, ttmts_logratio, label = 'TTMTS', markersize = 10, marker = MARKER_LIST[3], markeredgewidth=1, markerfacecolor='None') \n",
    "\n",
    "plt.title(\"I = %s\"%(n))\n",
    "alldata = np.concatenate([g_logratio,gprod_logratio,ts_logratio,ttmts_logratio])\n",
    "\n",
    "plt.legend(loc = 'best')\n",
    "plt.xlabel('Compression Factor: $\\delta_1$ = r/I')\n",
    "plt.ylabel('log(Relative Error)')\n",
    "plt.minorticks_off()\n",
    "ymin = 0\n",
    "ymax = max(alldata)  \n",
    "def round_to_n(x,n): \n",
    "    if x == 0: \n",
    "        return 0\n",
    "    else:\n",
    "        return round(x,-int(np.floor(np.log10(abs(x))))+n-1) \n",
    "#ticks = [round_to_n(i,3) for i in np.arange(ymin, ymax+(ymax-ymin)/5,(ymax-ymin)/5)] \n",
    "#plt.yticks(ticks)\n",
    "plt.axes().title.set_fontsize(fontsize)\n",
    "plt.axes().yaxis.set_major_formatter(ticker.FormatStrFormatter('%.2e')) \n",
    "plt.axes().xaxis.label.set_fontsize(fontsize)\n",
    "plt.axes().yaxis.label.set_fontsize(fontsize)\n",
    "plt.rc('legend',fontsize = fontsize)\n",
    "plt.rc('xtick', labelsize = fontsize) \n",
    "plt.rc('ytick', labelsize = fontsize) "
   ]
  },
  {
   "cell_type": "code",
   "execution_count": 17,
   "metadata": {},
   "outputs": [],
   "source": [
    "ts_err = scipy.io.loadmat('demo6.mat')['err_mat'][1,:]\n",
    "ttmts_err = scipy.io.loadmat('demo6.mat')['err_mat'][2,:]"
   ]
  },
  {
   "cell_type": "code",
   "execution_count": 18,
   "metadata": {},
   "outputs": [
    {
     "data": {
      "image/png": "[encoded data removed]",
      "text/plain": [
       "<Figure size 432x360 with 1 Axes>"
      ]
     },
     "metadata": {
      "needs_background": "light"
     },
     "output_type": "display_data"
    }
   ],
   "source": [
    "plt.rc('font', **{'family': 'serif', 'serif': ['Computer Modern']})\n",
    "plt.rc('text', usetex=True)\n",
    "sim_list = []\n",
    "plt.figure(figsize=(6,5))\n",
    "ymaxs = []\n",
    "g_logratio = [np.log(g_err[i]/hooi_err[i]) for i in range(len(hooi_err))]\n",
    "gprod_logratio = [np.log(gprod_err[i]/hooi_err[i]) for i in range(len(hooi_err))]\n",
    "ts_logratio = [np.log(ts_err[i]/hooi_err[i]) for i in range(len(hooi_err))]\n",
    "ttmts_logratio = [np.log(ttmts_err[i]/hooi_err[i]) for i in range(len(hooi_err))]\n",
    "fontsize = 18\n",
    "plt.plot(rs/n, g_logratio, label = 'Gaussian', markersize = 10, marker = MARKER_LIST[0], markeredgewidth=1, markerfacecolor='None') \n",
    "plt.plot(rs/n, gprod_logratio, label = 'Gaussian KR', markersize = 10, marker = MARKER_LIST[1], markeredgewidth=1, markerfacecolor='None') \n",
    "plt.plot(rs/n, ts_logratio, label = 'TS', markersize = 10, marker = MARKER_LIST[2], markeredgewidth=1, markerfacecolor='None') \n",
    "plt.plot(rs/n, ttmts_logratio, label = 'TTMTS', markersize = 10, marker = MARKER_LIST[3], markeredgewidth=1, markerfacecolor='None') \n",
    "\n",
    "plt.title(\"I = %s\"%(n))\n",
    "alldata = np.concatenate([g_logratio,gprod_logratio,ts_logratio,ttmts_logratio])\n",
    "\n",
    "plt.legend(loc = 'best')\n",
    "plt.xlabel('Compression Factor: $\\delta_1$ = r/I')\n",
    "plt.ylabel('log(Relative Error)')\n",
    "plt.minorticks_off()\n",
    "ymin = 0\n",
    "ymax = max(alldata)  \n",
    "def round_to_n(x,n): \n",
    "    if x == 0: \n",
    "        return 0\n",
    "    else:\n",
    "        return round(x,-int(np.floor(np.log10(abs(x))))+n-1) \n",
    "#ticks = [round_to_n(i,3) for i in np.arange(ymin, ymax+(ymax-ymin)/5,(ymax-ymin)/5)] \n",
    "#plt.yticks(ticks)\n",
    "plt.axes().title.set_fontsize(fontsize)\n",
    "plt.axes().yaxis.set_major_formatter(ticker.FormatStrFormatter('%.2e')) \n",
    "plt.axes().xaxis.label.set_fontsize(fontsize)\n",
    "plt.axes().yaxis.label.set_fontsize(fontsize)\n",
    "plt.rc('legend',fontsize = fontsize)\n",
    "plt.rc('xtick', labelsize = fontsize) \n",
    "plt.rc('ytick', labelsize = fontsize) "
   ]
  },
  {
   "cell_type": "code",
   "execution_count": 24,
   "metadata": {},
   "outputs": [],
   "source": [
    "test =tensorsketch.util.square_tensor_gen(dim = 3,n = 100,noise_level=0.1,r=5,typ='lk')"
   ]
  },
  {
   "cell_type": "code",
   "execution_count": 25,
   "metadata": {},
   "outputs": [
    {
     "data": {
      "text/plain": [
       "0.7037434771342747"
      ]
     },
     "execution_count": 25,
     "metadata": {},
     "output_type": "execute_result"
    }
   ],
   "source": [
    "np.linalg.norm(test[0]- test[1])"
   ]
  },
  {
   "cell_type": "code",
   "execution_count": 27,
   "metadata": {},
   "outputs": [
    {
     "data": {
      "text/plain": [
       "7.040640360060616"
      ]
     },
     "execution_count": 27,
     "metadata": {},
     "output_type": "execute_result"
    }
   ],
   "source": [
    "np.linalg.norm(test[1])"
   ]
  },
  {
   "cell_type": "code",
   "execution_count": 59,
   "metadata": {},
   "outputs": [],
   "source": [
    "def square_tensor_gen(n, r, dim = 3,  typ = 'lk', noise_level = 0, seed = None):\n",
    "    '''\n",
    "    :param n: size of the tensor generated n*n*...*n\n",
    "    :param r: rank of the tensor or equivalently, the size of core tensor\n",
    "    :param dim: # of dimensions of the tensor, default set as 3\n",
    "    :param typ: identity as core tensor or low rank as core tensor\n",
    "    :param noise_level: sqrt(E||X||^2_F/E||error||^_F)\n",
    "    :return: The tensor with noise, and The tensor without noise\n",
    "    '''\n",
    "    if typ == \"lk\":\n",
    "        core_tensor = np.random.uniform(0,1,[r for _ in range(dim)])\n",
    "        arms = []\n",
    "        tensor = core_tensor\n",
    "        for i in np.arange(dim):\n",
    "            arm = np.random.normal(0,1,size = (n,r))\n",
    "            arm, _ = np.linalg.qr(arm)\n",
    "            arms.append(arm)\n",
    "            tensor = tl.tenalg.mode_dot(tensor, arm, mode=i)\n",
    "        true_signal_mag = np.linalg.norm(tensor)**2\n",
    "        noise = np.random.normal(0, 1, np.repeat(n, dim))\n",
    "        X = tensor + noise*np.sqrt((noise_level**2)*true_signal_mag/total_num)\n",
    "        return X, tensor"
   ]
  },
  {
   "cell_type": "code",
   "execution_count": 60,
   "metadata": {},
   "outputs": [],
   "source": [
    "r = 5\n",
    "dim = 3\n",
    "n = 100\n",
    "noise_level = 0.01\n",
    "total_num = np.power(n, dim)\n",
    "\n",
    "core_tensor = np.random.uniform(0,1,[r for _ in range(dim)])\n",
    "arms = []\n",
    "tensor = core_tensor\n",
    "for i in np.arange(dim):\n",
    "    arm = np.random.normal(0,1,size = (n,r))\n",
    "    arm, _ = np.linalg.qr(arm)\n",
    "    arms.append(arm)\n",
    "    tensor = tl.tenalg.mode_dot(tensor, arm, mode=i)\n",
    "true_signal_mag = np.linalg.norm(tensor)**2\n",
    "noise = np.random.normal(0, 1, np.repeat(n, dim))\n",
    "X = tensor + noise*np.sqrt((noise_level**2)*true_signal_mag/total_num)"
   ]
  },
  {
   "cell_type": "code",
   "execution_count": 61,
   "metadata": {},
   "outputs": [
    {
     "data": {
      "text/plain": [
       "38.25357576373226"
      ]
     },
     "execution_count": 61,
     "metadata": {},
     "output_type": "execute_result"
    }
   ],
   "source": [
    "true_signal_mag"
   ]
  },
  {
   "cell_type": "code",
   "execution_count": 62,
   "metadata": {},
   "outputs": [
    {
     "data": {
      "text/plain": [
       "6.1852730363630295"
      ]
     },
     "execution_count": 62,
     "metadata": {},
     "output_type": "execute_result"
    }
   ],
   "source": [
    "np.linalg.norm(X)"
   ]
  },
  {
   "cell_type": "code",
   "execution_count": 71,
   "metadata": {},
   "outputs": [
    {
     "data": {
      "text/plain": [
       "6.184964316361341"
      ]
     },
     "execution_count": 71,
     "metadata": {},
     "output_type": "execute_result"
    }
   ],
   "source": [
    "np.linalg.norm(tl.tucker_to_tensor(core, factor))"
   ]
  },
  {
   "cell_type": "code",
   "execution_count": 70,
   "metadata": {},
   "outputs": [
    {
     "data": {
      "text/plain": [
       "0.06179757031174959"
      ]
     },
     "execution_count": 70,
     "metadata": {},
     "output_type": "execute_result"
    }
   ],
   "source": [
    "np.linalg.norm(tl.tucker_to_tensor(core, factor)-X)"
   ]
  },
  {
   "cell_type": "code",
   "execution_count": 64,
   "metadata": {},
   "outputs": [
    {
     "data": {
      "text/plain": [
       "0.009991082034445946"
      ]
     },
     "execution_count": 64,
     "metadata": {},
     "output_type": "execute_result"
    }
   ],
   "source": [
    "core, factor = tucker(X,[5,5,5])\n",
    "np.linalg.norm(tl.tucker_to_tensor(core, factor)-X)/np.linalg.norm(X)"
   ]
  },
  {
   "cell_type": "code",
   "execution_count": 69,
   "metadata": {
    "scrolled": true
   },
   "outputs": [
    {
     "name": "stderr",
     "output_type": "stream",
     "text": [
      "Using numpy backend.\n",
      "Using numpy backend.\n",
      "Using numpy backend.\n",
      "Using numpy backend.\n",
      "Using numpy backend.\n",
      "Using numpy backend.\n"
     ]
    },
    {
     "data": {
      "text/plain": [
       "0.009975456331721212"
      ]
     },
     "execution_count": 69,
     "metadata": {},
     "output_type": "execute_result"
    }
   ],
   "source": [
    "simu = simulation.Simulation(n, 5, 10, 21, 3, tensorsketch.util.RandomInfoBucket(random_seed=2), 'lk', 0.01,'g')\n",
    "rerr_hooi, rerr_twopass, rerr_onepass = simu.run_sim()\n",
    "rerr_hooi"
   ]
  },
  {
   "cell_type": "code",
   "execution_count": null,
   "metadata": {},
   "outputs": [],
   "source": []
  }
 ],
 "metadata": {
  "kernelspec": {
   "display_name": "Python 3",
   "language": "python",
   "name": "python3"
  },
  "language_info": {
   "codemirror_mode": {
    "name": "ipython",
    "version": 3
   },
   "file_extension": ".py",
   "mimetype": "text/x-python",
   "name": "python",
   "nbconvert_exporter": "python",
   "pygments_lexer": "ipython3",
   "version": "3.6.6"
  }
 },
 "nbformat": 4,
 "nbformat_minor": 2
}
