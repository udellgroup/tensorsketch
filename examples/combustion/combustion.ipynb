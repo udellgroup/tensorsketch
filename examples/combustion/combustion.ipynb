{
 "cells": [
  {
   "cell_type": "code",
   "execution_count": 14,
   "metadata": {},
   "outputs": [],
   "source": [
    "import netCDF4 as nc\n",
    "import numpy as np\n",
    "import matplotlib.pyplot as plt \n",
    "import pickle\n",
    "import tensorly\n",
    "import matplotlib.ticker as ticker\n",
    "import tensorsketch\n",
    "from tensorsketch.tensor_approx import TensorApprox\n",
    "import warnings\n",
    "warnings.filterwarnings('ignore')\n",
    "import scipy.io\n",
    "from tensorsketch.sketch import Sketch"
   ]
  },
  {
   "cell_type": "code",
   "execution_count": 15,
   "metadata": {
    "scrolled": true
   },
   "outputs": [],
   "source": [
    "# data_idx = ['1000', '1010','1020','1030','1043', '1051','1060','1070','1080','1090','1100','1121','1131','1140','1150','1162','1171','1180','1192','1200']\n",
    "# data_name = ['data/data_'+idx+'E-02.mat' for idx in data_idx]\n",
    "# pressure = [scipy.io.loadmat(name).get('data')[:,:,:,3] for name in data_name]\n",
    "# pressure = np.stack(pressure,axis=3)\n",
    "# np.save(\"data/pressure.npy\",pressure)"
   ]
  },
  {
   "cell_type": "code",
   "execution_count": 16,
   "metadata": {},
   "outputs": [],
   "source": [
    "pressure = np.load(\"data/pressure.npy\")"
   ]
  },
  {
   "cell_type": "code",
   "execution_count": 23,
   "metadata": {},
   "outputs": [],
   "source": [
    "def update_sketch(arm_sketches, core_sketch, data, ks, ss, rm_typ = 'g', ts_dim = 0, typ = 'turnstile', seed = 1):\n",
    "    if typ == 'turnstile': \n",
    "        new_sketch = tensorsketch.sketch.Sketch(data, ks, seed, ss)\n",
    "        [new_arm_sketches, new_core_sketch] = new_sketch.get_sketches()\n",
    "        for i in range(len(arm_sketches)): \n",
    "            arm_sketches[i] = arm_sketches[i] + new_arm_sketches[i]\n",
    "        core_sketch = core_sketch + new_core_sketch\n",
    "        # print(new_core_sketch)\n",
    "        # print(new_arm_sketches)\n",
    "        return [arm_sketches, core_sketch]\n",
    "    elif typ == \"ts\": \n",
    "        pass"
   ]
  },
  {
   "cell_type": "code",
   "execution_count": 24,
   "metadata": {},
   "outputs": [
    {
     "data": {
      "text/plain": [
       "(1408, 128, 128, 20)"
      ]
     },
     "execution_count": 24,
     "metadata": {},
     "output_type": "execute_result"
    }
   ],
   "source": [
    "pressure.shape"
   ]
  },
  {
   "cell_type": "code",
   "execution_count": 29,
   "metadata": {},
   "outputs": [],
   "source": [
    "ks = [352,32,32,10]\n",
    "ss = [704, 64, 64, 15]\n",
    "ranks = [200, 20, 20, 5]"
   ]
  },
  {
   "cell_type": "code",
   "execution_count": 26,
   "metadata": {},
   "outputs": [],
   "source": [
    "def update_combustion(data, ks, ss, rm_typ = 'g', seed = 1):    \n",
    "    np.random.seed(seed)\n",
    "    # Initialize the arm sketches and core sketch \n",
    "    arms_sketches = [np.zeros([length,ks[i]]) for i, length in enumerate(list(data.shape))]\n",
    "    core_sketch = np.zeros(ss)\n",
    "    for i in np.arange(data.shape[3]): \n",
    "        print(i)\n",
    "        new_data = np.zeros(data.shape)\n",
    "        new_data[:,:,:,i] = data[:,:,:,i]\n",
    "        sketches = update_sketch(arms_sketches, core_sketch, new_data, ks, ss, rm_typ= rm_typ, seed =  seed)\n",
    "    return [arms_sketches, core_sketch] \n",
    "        "
   ]
  },
  {
   "cell_type": "code",
   "execution_count": 27,
   "metadata": {
    "scrolled": false
   },
   "outputs": [
    {
     "name": "stdout",
     "output_type": "stream",
     "text": [
      "0\n"
     ]
    },
    {
     "name": "stderr",
     "output_type": "stream",
     "text": [
      "Using numpy backend.\n"
     ]
    },
    {
     "name": "stdout",
     "output_type": "stream",
     "text": [
      "1\n"
     ]
    },
    {
     "name": "stderr",
     "output_type": "stream",
     "text": [
      "Using numpy backend.\n"
     ]
    },
    {
     "name": "stdout",
     "output_type": "stream",
     "text": [
      "2\n"
     ]
    },
    {
     "name": "stderr",
     "output_type": "stream",
     "text": [
      "Using numpy backend.\n"
     ]
    },
    {
     "name": "stdout",
     "output_type": "stream",
     "text": [
      "3\n"
     ]
    },
    {
     "name": "stderr",
     "output_type": "stream",
     "text": [
      "Using numpy backend.\n"
     ]
    },
    {
     "name": "stdout",
     "output_type": "stream",
     "text": [
      "4\n"
     ]
    },
    {
     "name": "stderr",
     "output_type": "stream",
     "text": [
      "Using numpy backend.\n"
     ]
    }
   ],
   "source": [
    "test = update_combustion(pressure[:,:,:,:5], ks, ss)"
   ]
  },
  {
   "cell_type": "code",
   "execution_count": null,
   "metadata": {},
   "outputs": [],
   "source": [
    "def combustion_sim(data, ranks, ks, ss, seed = 1, rm_typ = 'g'):\n",
    "    [arm_sketches, core_sketch] = update_combustion(data, ks, ss)\n",
    "    tapprox = tensorsketch.tensor_approx.TensorApprox(data, ranks = ranks, ks = ks, \\\n",
    "            ss = ss, random_seed = seed, rm_typ = rm_typ, store_phis = False)\n",
    "    \n",
    "    _, _, _, hooi_rerr, _ = tapprox.tensor_approx('hooi')\n",
    "    _, _, _, two_pass_rerr, _ = tapprox.tensor_approx('twopass')\n",
    "    _, _, _, one_pass_rerr, _ = tapprox.tensor_approx('onepass')\n",
    "    result = [hooi_result, two_pass_result, one_pass_result] \n",
    "    print(result)\n",
    "    return result"
   ]
  },
  {
   "cell_type": "code",
   "execution_count": 33,
   "metadata": {},
   "outputs": [],
   "source": [
    "seed = 1; rm_typ = 'g'"
   ]
  },
  {
   "cell_type": "code",
   "execution_count": 43,
   "metadata": {},
   "outputs": [],
   "source": [
    "data = pressure[:,:,:,:5]"
   ]
  },
  {
   "cell_type": "code",
   "execution_count": 44,
   "metadata": {
    "scrolled": true
   },
   "outputs": [
    {
     "data": {
      "text/plain": [
       "(1408, 128, 128, 20)"
      ]
     },
     "execution_count": 44,
     "metadata": {},
     "output_type": "execute_result"
    }
   ],
   "source": [
    "pressure.shape"
   ]
  },
  {
   "cell_type": "code",
   "execution_count": 45,
   "metadata": {},
   "outputs": [],
   "source": [
    "ks = [564,52,52,3]\n",
    "ss = [1100, 100, 100, 4]\n",
    "ranks = [282, 26, 26,2]"
   ]
  },
  {
   "cell_type": "code",
   "execution_count": 46,
   "metadata": {
    "scrolled": true
   },
   "outputs": [
    {
     "name": "stderr",
     "output_type": "stream",
     "text": [
      "Using numpy backend.\n"
     ]
    },
    {
     "name": "stdout",
     "output_type": "stream",
     "text": [
      "0.48093689592610483\n"
     ]
    },
    {
     "name": "stderr",
     "output_type": "stream",
     "text": [
      "Using numpy backend.\n",
      "Using numpy backend.\n"
     ]
    },
    {
     "name": "stdout",
     "output_type": "stream",
     "text": [
      "0.7420139824068969\n"
     ]
    },
    {
     "name": "stderr",
     "output_type": "stream",
     "text": [
      "Using numpy backend.\n"
     ]
    },
    {
     "ename": "KeyboardInterrupt",
     "evalue": "",
     "output_type": "error",
     "traceback": [
      "\u001b[0;31m---------------------------------------------------------------------------\u001b[0m",
      "\u001b[0;31mKeyboardInterrupt\u001b[0m                         Traceback (most recent call last)",
      "\u001b[0;32m<ipython-input-46-97da1bb0a483>\u001b[0m in \u001b[0;36m<module>\u001b[0;34m()\u001b[0m\n\u001b[1;32m      7\u001b[0m \u001b[0mprint\u001b[0m\u001b[0;34m(\u001b[0m\u001b[0mtwo_pass_rerr\u001b[0m\u001b[0;34m)\u001b[0m\u001b[0;34m\u001b[0m\u001b[0m\n\u001b[1;32m      8\u001b[0m \u001b[0;34m\u001b[0m\u001b[0m\n\u001b[0;32m----> 9\u001b[0;31m \u001b[0m_\u001b[0m\u001b[0;34m,\u001b[0m \u001b[0m_\u001b[0m\u001b[0;34m,\u001b[0m \u001b[0m_\u001b[0m\u001b[0;34m,\u001b[0m \u001b[0mone_pass_rerr\u001b[0m\u001b[0;34m,\u001b[0m \u001b[0m_\u001b[0m \u001b[0;34m=\u001b[0m \u001b[0mtapprox\u001b[0m\u001b[0;34m.\u001b[0m\u001b[0mtensor_approx\u001b[0m\u001b[0;34m(\u001b[0m\u001b[0;34m'onepass'\u001b[0m\u001b[0;34m)\u001b[0m\u001b[0;34m\u001b[0m\u001b[0m\n\u001b[0m\u001b[1;32m     10\u001b[0m \u001b[0mprint\u001b[0m\u001b[0;34m(\u001b[0m\u001b[0mone_pass_rerr\u001b[0m\u001b[0;34m)\u001b[0m\u001b[0;34m\u001b[0m\u001b[0m\n",
      "\u001b[0;32m~/workspace/tensorsketch/tensorsketch/tensor_approx.py\u001b[0m in \u001b[0;36mtensor_approx\u001b[0;34m(self, method)\u001b[0m\n\u001b[1;32m     44\u001b[0m         \u001b[0;32melif\u001b[0m \u001b[0mmethod\u001b[0m \u001b[0;34m==\u001b[0m \u001b[0;34m\"onepass\"\u001b[0m\u001b[0;34m:\u001b[0m\u001b[0;34m\u001b[0m\u001b[0m\n\u001b[1;32m     45\u001b[0m             sketch = Sketch(self.X, self.ks, random_seed = self.random_seed, \\\n\u001b[0;32m---> 46\u001b[0;31m                 ss = self.ss, store_phis = self.store_phis, typ = self.rm_typ) \n\u001b[0m\u001b[1;32m     47\u001b[0m             \u001b[0marm_sketches\u001b[0m\u001b[0;34m,\u001b[0m \u001b[0mcore_sketch\u001b[0m \u001b[0;34m=\u001b[0m \u001b[0msketch\u001b[0m\u001b[0;34m.\u001b[0m\u001b[0mget_sketches\u001b[0m\u001b[0;34m(\u001b[0m\u001b[0;34m)\u001b[0m\u001b[0;34m\u001b[0m\u001b[0m\n\u001b[1;32m     48\u001b[0m             \u001b[0msketch_time\u001b[0m \u001b[0;34m=\u001b[0m \u001b[0mtime\u001b[0m\u001b[0;34m.\u001b[0m\u001b[0mtime\u001b[0m\u001b[0;34m(\u001b[0m\u001b[0;34m)\u001b[0m \u001b[0;34m-\u001b[0m \u001b[0mstart_time\u001b[0m\u001b[0;34m\u001b[0m\u001b[0m\n",
      "\u001b[0;32m~/workspace/tensorsketch/tensorsketch/sketch.py\u001b[0m in \u001b[0;36m__init__\u001b[0;34m(self, X, ks, random_seed, ss, typ, sparse_factor, std, store_phis)\u001b[0m\n\u001b[1;32m     89\u001b[0m                 \u001b[0mself\u001b[0m\u001b[0;34m.\u001b[0m\u001b[0mphis\u001b[0m\u001b[0;34m.\u001b[0m\u001b[0mappend\u001b[0m\u001b[0;34m(\u001b[0m\u001b[0mrm\u001b[0m\u001b[0;34m)\u001b[0m\u001b[0;34m\u001b[0m\u001b[0m\n\u001b[1;32m     90\u001b[0m                 self.core_sketch = tl.tenalg.mode_dot(self.core_sketch, rm,\\\n\u001b[0;32m---> 91\u001b[0;31m                  mode=mode_n)\n\u001b[0m\u001b[1;32m     92\u001b[0m                 \u001b[0mmode_n\u001b[0m \u001b[0;34m+=\u001b[0m \u001b[0;36m1\u001b[0m\u001b[0;34m\u001b[0m\u001b[0m\n\u001b[1;32m     93\u001b[0m             \u001b[0;32mif\u001b[0m \u001b[0;32mnot\u001b[0m \u001b[0mstore_phis\u001b[0m\u001b[0;34m:\u001b[0m\u001b[0;34m\u001b[0m\u001b[0m\n",
      "\u001b[0;31mKeyboardInterrupt\u001b[0m: "
     ]
    }
   ],
   "source": [
    "tapprox = tensorsketch.tensor_approx.TensorApprox(data, ranks = ranks, ks = ks, \\\n",
    "            ss = ss, random_seed = seed, rm_typ = rm_typ, store_phis = False)\n",
    "    \n",
    "_, _, _, hooi_rerr, _ = tapprox.tensor_approx('hooi')\n",
    "print(hooi_rerr)\n",
    "\n",
    "_, _, _, two_pass_rerr, _ = tapprox.tensor_approx('twopass')\n",
    "print(two_pass_rerr)\n",
    "\n",
    "_, _, _, one_pass_rerr, _ = tapprox.tensor_approx('onepass')\n",
    "print(one_pass_rerr)"
   ]
  },
  {
   "cell_type": "code",
   "execution_count": null,
   "metadata": {},
   "outputs": [],
   "source": []
  }
 ],
 "metadata": {
  "kernelspec": {
   "display_name": "Python 3",
   "language": "python",
   "name": "python3"
  },
  "language_info": {
   "codemirror_mode": {
    "name": "ipython",
    "version": 3
   },
   "file_extension": ".py",
   "mimetype": "text/x-python",
   "name": "python",
   "nbconvert_exporter": "python",
   "pygments_lexer": "ipython3",
   "version": "3.6.6"
  }
 },
 "nbformat": 4,
 "nbformat_minor": 2
}
